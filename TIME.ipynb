{
 "cells": [
  {
   "cell_type": "markdown",
   "id": "0350580f",
   "metadata": {},
   "source": [
    "# Practise Lecture 9"
   ]
  },
  {
   "cell_type": "code",
   "execution_count": 29,
   "id": "46d50913",
   "metadata": {},
   "outputs": [
    {
     "name": "stdout",
     "output_type": "stream",
     "text": [
      "1627198615.6228142\n",
      "time.struct_time(tm_year=2021, tm_mon=7, tm_mday=25, tm_hour=7, tm_min=36, tm_sec=55, tm_wday=6, tm_yday=206, tm_isdst=0)\n",
      "time.struct_time(tm_year=2021, tm_mon=7, tm_mday=25, tm_hour=7, tm_min=36, tm_sec=55, tm_wday=6, tm_yday=206, tm_isdst=0)\n",
      "Sun Jul 25 07:36:55 2021\n"
     ]
    }
   ],
   "source": [
    "import time\n",
    "x=time.time()\n",
    "print(x)\n",
    "y=time.gmtime(x)\n",
    "print(y)\n",
    "print(time.gmtime())\n",
    "print(time.asctime(y))\n"
   ]
  },
  {
   "cell_type": "code",
   "execution_count": 30,
   "id": "56c4708d",
   "metadata": {},
   "outputs": [
    {
     "name": "stdout",
     "output_type": "stream",
     "text": [
      "time.struct_time(tm_year=2021, tm_mon=7, tm_mday=25, tm_hour=7, tm_min=36, tm_sec=55, tm_wday=6, tm_yday=206, tm_isdst=0)\n"
     ]
    }
   ],
   "source": [
    "print(time.gmtime())"
   ]
  },
  {
   "cell_type": "code",
   "execution_count": 31,
   "id": "75ae450a",
   "metadata": {},
   "outputs": [
    {
     "name": "stdout",
     "output_type": "stream",
     "text": [
      "Sun Jul 25 13:06:56 2021\n",
      "Sun Jul 25 13:06:56 2021\n"
     ]
    }
   ],
   "source": [
    "print(time.asctime())\n",
    "print(time.ctime())"
   ]
  },
  {
   "cell_type": "code",
   "execution_count": 32,
   "id": "96c9cc8e",
   "metadata": {},
   "outputs": [
    {
     "name": "stdout",
     "output_type": "stream",
     "text": [
      "Sun Jul 25 07:36:55 2021\n",
      "Sun Jul 25 13:06:55 2021\n"
     ]
    }
   ],
   "source": [
    "print(time.asctime(y))\n",
    "print(time.ctime(x))"
   ]
  },
  {
   "cell_type": "code",
   "execution_count": 33,
   "id": "1bfd46eb",
   "metadata": {},
   "outputs": [
    {
     "name": "stdout",
     "output_type": "stream",
     "text": [
      "Sun Jul 25 13:06:57 2021\n",
      "Sun Jul 25 13:06:57 2021\n"
     ]
    }
   ],
   "source": [
    "print(time.asctime())\n",
    "print(time.ctime())"
   ]
  },
  {
   "cell_type": "code",
   "execution_count": null,
   "id": "3dbe8c31",
   "metadata": {},
   "outputs": [],
   "source": []
  },
  {
   "cell_type": "markdown",
   "id": "72bc173b",
   "metadata": {},
   "source": [
    "# Class Activity Week 10, Lecture 9 "
   ]
  },
  {
   "cell_type": "markdown",
   "id": "7938b326",
   "metadata": {},
   "source": [
    "## program that takes a birthday of user as input prints the user’s age "
   ]
  },
  {
   "cell_type": "code",
   "execution_count": 181,
   "id": "302196b0",
   "metadata": {},
   "outputs": [
    {
     "name": "stdout",
     "output_type": "stream",
     "text": [
      "Current year 2021\n",
      "Birth year 1988\n",
      "Age is calculated as 33\n",
      "Accurate age 32\n"
     ]
    }
   ],
   "source": [
    "#Print your age\n",
    "import datetime\n",
    "current_date=datetime.datetime.now()\n",
    "birth_date=datetime.date(1988,11,10)\n",
    "print(\"Current year\",current_date.year)\n",
    "print(\"Birth year\",birth_date.year)\n",
    "print(\"Age is calculated as\",current_date.year-birth_date.year)\n",
    "print(\"Accurate age\",int(int((datetime.date.today()-birth_date).days)//365.2425))"
   ]
  },
  {
   "cell_type": "markdown",
   "id": "70951685",
   "metadata": {},
   "source": [
    "## months passed since enrollment"
   ]
  },
  {
   "cell_type": "code",
   "execution_count": 136,
   "id": "8ceb8a3f",
   "metadata": {
    "scrolled": true
   },
   "outputs": [
    {
     "name": "stdout",
     "output_type": "stream",
     "text": [
      "Month of enrolment 7\n",
      "current_month 2021-07-25 15:15:29.825310\n",
      "It has been 2 months since enrolment\n"
     ]
    }
   ],
   "source": [
    "#Print its been how many months you are enrolled in Cestar college.\n",
    "course_enrol_month=datetime.datetime(2021,5,10)\n",
    "current_month=datetime.datetime.now()\n",
    "print(\"Month of enrolment\",current_month.month)\n",
    "print(\"current_month\",current_month)\n",
    "print(\"It has been\",current_month.month-course_enrol_month.month,\"months since enrolment\")"
   ]
  },
  {
   "cell_type": "markdown",
   "id": "3f827b25",
   "metadata": {},
   "source": [
    "## the current date and prints the day of the week\n"
   ]
  },
  {
   "cell_type": "code",
   "execution_count": 138,
   "id": "9085268e",
   "metadata": {},
   "outputs": [
    {
     "name": "stdout",
     "output_type": "stream",
     "text": [
      "07/25/21\n",
      "Sunday\n"
     ]
    }
   ],
   "source": [
    "#Print gets the current date and prints the day of the week\n",
    "print(datetime.datetime.now().strftime(\"%x\"))\n",
    "print(datetime.datetime.now().strftime(\"%A\"))\n",
    "\n"
   ]
  },
  {
   "cell_type": "markdown",
   "id": "1e3033b9",
   "metadata": {},
   "source": [
    "##  1.To get the current date and prints the day of the week\n"
   ]
  },
  {
   "cell_type": "code",
   "execution_count": 56,
   "id": "c685c286",
   "metadata": {},
   "outputs": [
    {
     "name": "stdout",
     "output_type": "stream",
     "text": [
      "Date Method 1: 2021-07-25\n",
      "Date Method 2: 07/25/21\n",
      "25 - 7 - 2021\n",
      "Day of the week Sunday\n"
     ]
    }
   ],
   "source": [
    "#Print current date\n",
    "import datetime\n",
    "date=datetime.datetime.now()\n",
    "today=datetime.datetime.now().date()\n",
    "print(\"Date Method 1:\",today)\n",
    "today=datetime.datetime.now().strftime(\"%x\")\n",
    "print(\"Date Method 2:\",today)\n",
    "print(date.day,\"-\",date.month,\"-\",date.year)\n",
    "#Print day of the week\n",
    "day=datetime.datetime.now().strftime(\"%A\")\n",
    "print(\"Day of the week\",day)"
   ]
  },
  {
   "cell_type": "markdown",
   "id": "308f685f",
   "metadata": {},
   "source": [
    "##  2a) program that takes a birthday of user as input \n",
    "## 2b) prints the user’s age and the number of days, hours, minutes and seconds until their next birthday"
   ]
  },
  {
   "cell_type": "code",
   "execution_count": 260,
   "id": "a63d7ecb",
   "metadata": {},
   "outputs": [
    {
     "name": "stdout",
     "output_type": "stream",
     "text": [
      "Enter date of birth 11\n",
      "Enter month of birth 10\n",
      "Enter year of birth 1988\n",
      "Current age is 32\n",
      "2022-10-11 00:00:00\n",
      "\n",
      "442 days, 4 hours, 32 minutes, 47 seconds\n",
      "\n"
     ]
    }
   ],
   "source": [
    "import datetime\n",
    "from datetime import time\n",
    "def age_calc():\n",
    "    date=int(input(\"Enter date of birth \"))\n",
    "    month=int(input(\"Enter month of birth \"))\n",
    "    year=int(input(\"Enter year of birth \"))\n",
    "    dob=datetime.datetime(year,month,date)\n",
    "    cur=datetime.datetime.now()\n",
    "    dob_next=datetime.datetime((cur.year)+1,month,date)\n",
    "    #print(dob_next)\n",
    "    age=int(((cur-dob).days)//365.2425)\n",
    "    \n",
    "    return dob_next,age\n",
    "\n",
    "def date_diff_in_seconds(dt1, dt2):\n",
    "    timedelta = dt1 - dt2\n",
    "    #print(timedelta)    \n",
    "    #print(timedelta.seconds)\n",
    "    t=timedelta.days * 24 * 3600 + timedelta.seconds\n",
    "    #print(t)\n",
    "    return t\n",
    "\n",
    "\n",
    "def dhms_from_seconds(seconds):\n",
    "    minutes, seconds = divmod(seconds, 60)\n",
    "    hours, minutes = divmod(minutes, 60)\n",
    "    days, hours = divmod(hours, 24)\n",
    "    return (days, hours, minutes, seconds)\n",
    "\n",
    "dob_next,age=age_calc()\n",
    "print(\"Current age is\",age)\n",
    "print(dob_next)\n",
    "\n",
    "#Next year birthday\n",
    "date1 = datetime.datetime.strptime(str(dob_next), '%Y-%m-%d %H:%M:%S')\n",
    "#print(date1)\n",
    "\n",
    "#Current date\n",
    "date2 = datetime.datetime.now()\n",
    "#print(date2)\n",
    "\n",
    "print(\"\\n%d days, %d hours, %d minutes, %d seconds\" % dhms_from_seconds(date_diff_in_seconds(date1, date2)))\n",
    "print()\n"
   ]
  },
  {
   "cell_type": "markdown",
   "id": "101f1b71",
   "metadata": {},
   "source": [
    "## 3. calculates the total number of seconds they have been living in epoch time\n"
   ]
  },
  {
   "cell_type": "code",
   "execution_count": 238,
   "id": "191f543c",
   "metadata": {},
   "outputs": [
    {
     "name": "stdout",
     "output_type": "stream",
     "text": [
      "Enter date of birth 11\n",
      "Enter month of birth 10\n",
      "Enter year of birth 1988\n",
      "No of secs elapsed since birth 592511400.0\n",
      "No. of secs since epoch 1627219614.7364473\n",
      "No. of seconds they have been living in epoch time 1034708214.7364473\n"
     ]
    }
   ],
   "source": [
    "import datetime,time\n",
    "date=int(input(\"Enter date of birth \"))\n",
    "month=int(input(\"Enter month of birth \"))\n",
    "year=int(input(\"Enter year of birth \"))\n",
    "dob=datetime.datetime(year,month,date)\n",
    "dob_sec=dob.timestamp()\n",
    "print(\"No of secs elapsed since birth\",dob_sec)\n",
    "epoch=time.time()\n",
    "print(\"No. of secs since epoch\",epoch)\n",
    "dob_epoch=epoch-dob_sec\n",
    "print(\"No. of seconds they have been living in epoch time\",dob_epoch)\n",
    "\n"
   ]
  },
  {
   "cell_type": "markdown",
   "id": "e2207b03",
   "metadata": {},
   "source": [
    "## 4. Python program to print the date for yesterday, today, and tomorrow"
   ]
  },
  {
   "cell_type": "code",
   "execution_count": 180,
   "id": "0af9b240",
   "metadata": {},
   "outputs": [
    {
     "name": "stdout",
     "output_type": "stream",
     "text": [
      "Today is  2021-07-25\n",
      "Yesterday was 2021-07-24\n",
      "Tomorow is 2021-07-26\n",
      "*************************\n",
      "Yesterday =  24/07/2021\n",
      "Today =  25/07/2021\n",
      "Tomorrow =  26/07/2021\n"
     ]
    }
   ],
   "source": [
    "import datetime\n",
    "from datetime import timedelta\n",
    "today=datetime.datetime.now()\n",
    "print(\"Today is \",today.date())\n",
    "yesterday=today-timedelta(1)\n",
    "print(\"Yesterday was\",yesterday.date())\n",
    "tomorrow=today+timedelta(1)\n",
    "print(\"Tomorow is\",tomorrow.date())\n",
    "#Reformatting\n",
    "print(\"*************************\")\n",
    "print(\"Yesterday = \", yesterday.strftime('%d/%m/%Y'))\n",
    "print(\"Today = \", today.strftime('%d/%m/%Y'))\n",
    "print(\"Tomorrow = \", tomorrow.strftime('%d/%m/%Y'))"
   ]
  },
  {
   "cell_type": "code",
   "execution_count": null,
   "id": "083a3044",
   "metadata": {},
   "outputs": [],
   "source": []
  }
 ],
 "metadata": {
  "kernelspec": {
   "display_name": "Python 3",
   "language": "python",
   "name": "python3"
  },
  "language_info": {
   "codemirror_mode": {
    "name": "ipython",
    "version": 3
   },
   "file_extension": ".py",
   "mimetype": "text/x-python",
   "name": "python",
   "nbconvert_exporter": "python",
   "pygments_lexer": "ipython3",
   "version": "3.9.5"
  }
 },
 "nbformat": 4,
 "nbformat_minor": 5
}
