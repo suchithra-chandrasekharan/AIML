{
 "cells": [
  {
   "cell_type": "markdown",
   "id": "9e561e93",
   "metadata": {},
   "source": [
    
   ]
  },
  {
   "cell_type": "markdown",
   "id": "3696d4c3",
   "metadata": {},
   "source": [
    "## 1. Caesar cypher  "
   ]
  },
  {
   "cell_type": "code",
   "execution_count": 28,
   "id": "be48c298",
   "metadata": {},
   "outputs": [
    {
     "name": "stdout",
     "output_type": "stream",
     "text": [
      "Enter the text to be encryptedHAL\n",
      "Enter the no. of rotations required1\n",
      "The encrypted text of HAL is IBM\n",
      "Do you wish to continue? y/nY\n",
      "\n",
      "Enter the text to be encryptedcheer\n",
      "Enter the no. of rotations required7\n",
      "The encrypted text of cheer is jolly\n",
      "Do you wish to continue? y/ny\n",
      "\n",
      "Enter the text to be encryptedJOLLY\n",
      "Enter the no. of rotations required-7\n",
      "The encrypted text of JOLLY is CHEER\n",
      "Do you wish to continue? y/nY\n",
      "\n",
      "Enter the text to be encryptedApplE\n",
      "Enter the no. of rotations required8\n",
      "The encrypted text of ApplE is IxxtM\n",
      "Do you wish to continue? y/nn\n",
      "\n"
     ]
    }
   ],
   "source": [
    "def ceaser_cypher(plain_text, shift):\n",
    "    #empty string to encrypt the plain text\n",
    "    encrypt=\"\"\n",
    "    \n",
    "    #for each character in the plain text\n",
    "    for i in range(len(plain_text)):\n",
    "        \n",
    "        #find the ordinal value of each character\n",
    "        char=ord(plain_text[i])\n",
    "        \n",
    "        #check if the character is an upper case (A=65, a=97)\n",
    "        if chr(char).isupper():\n",
    "            #peforming the shift on the upper case character\n",
    "            rotation=(char-65+shift)%26+65\n",
    "        else:\n",
    "            #peforming the shift on the lower case character\n",
    "            rotation=(char-97+shift)%26+97\n",
    "        \n",
    "        #appending the encrypted character to the new string\n",
    "        encrypt=encrypt+chr(rotation)\n",
    "    return encrypt\n",
    "\n",
    "flag=1\n",
    "while flag:\n",
    "    #Ask the user to enter the text and number of rotations of his choice for the ceasar cypher \n",
    "    plain_text=input(\"Enter the text to be encrypted\")\n",
    "    shift=int(input(\"Enter the no. of rotations required\"))\n",
    "    \n",
    "    #function call\n",
    "    encrypted=ceaser_cypher(plain_text, shift)\n",
    "    \n",
    "    #encrypted output is displayed\n",
    "    print(\"The encrypted text of\",plain_text,\"is\",encrypted)\n",
    "    \n",
    "    #prompting user if he/she wishes another encryption\n",
    "    choice=input(\"Do you wish to continue? y/n\")\n",
    "    print()\n",
    "    if choice=='n' or choice=='N':\n",
    "        flag=0"
   ]
  },
  {
   "cell_type": "markdown",
   "id": "2434f4d9",
   "metadata": {},
   "source": [
    "## 2. Binary Search Algorithm Implementation \n",
    "Binary search algorithm works on sorted list"
   ]
  },
  {
   "cell_type": "markdown",
   "id": "dbd33661",
   "metadata": {},
   "source": [
    "#### a) Binary search algorithm that returns True if element is present in the list and False otherwise"
   ]
  },
  {
   "cell_type": "code",
   "execution_count": 37,
   "id": "fb1402ee",
   "metadata": {},
   "outputs": [
    {
     "name": "stdout",
     "output_type": "stream",
     "text": [
      "Enter the value of element you want to search41\n",
      "[2, 3, 5, 7, 11, 13, 17, 19, 23, 29, 31, 37, 41, 43, 47, 53, 59, 61, 67, 71, 73, 79, 83, 89, 97]\n",
      "True\n",
      "Do you want to search for another element? Y/Ny\n",
      "Enter the value of element you want to search2\n",
      "[2, 3, 5, 7, 11, 13, 17, 19, 23, 29, 31, 37, 41, 43, 47, 53, 59, 61, 67, 71, 73, 79, 83, 89, 97]\n",
      "True\n",
      "Do you want to search for another element? Y/Ny\n",
      "Enter the value of element you want to search97\n",
      "[2, 3, 5, 7, 11, 13, 17, 19, 23, 29, 31, 37, 41, 43, 47, 53, 59, 61, 67, 71, 73, 79, 83, 89, 97]\n",
      "True\n",
      "Do you want to search for another element? Y/Ny\n",
      "Enter the value of element you want to search100\n",
      "[2, 3, 5, 7, 11, 13, 17, 19, 23, 29, 31, 37, 41, 43, 47, 53, 59, 61, 67, 71, 73, 79, 83, 89, 97]\n",
      "False\n",
      "Do you want to search for another element? Y/Nn\n"
     ]
    }
   ],
   "source": [
    "def bin_search(key,list_elements1):\n",
    "    #assigning first as 0th index and last as the last index of the list\n",
    "    first=0\n",
    "    last=len(list_elements1)-1\n",
    "    \n",
    "    #repeat finding mid elements of the new list until the first and last element aren't the same or crosses\n",
    "    while first<=last:\n",
    "        mid=int((first+last)/2)\n",
    "        \n",
    "        #return the index of the key element which is in the middle of the list\n",
    "        if list_elements1[mid]==key:\n",
    "            return True\n",
    "        \n",
    "        #finding the last index of the new list as the key element lies on the left half\n",
    "        #as the elemnt at middle position is greater than key  \n",
    "        elif list_elements1[mid]>key:\n",
    "            last=mid-1\n",
    "            \n",
    "        #finding the first index of the new list as the key element lies on the right half\n",
    "        #as the elemnt at middle position is less than key\n",
    "        else:\n",
    "            first=mid+1\n",
    "            \n",
    "    #returns -1 if the search key is not in th list\n",
    "    return False\n",
    "    \n",
    "\n",
    "flag=1\n",
    "while flag:\n",
    "        #user enters the key to search\n",
    "        key=int(input(\"Enter the value of element you want to search\"))\n",
    "        \n",
    "        #Some test lists\n",
    "        list_elements=[10,4,2,6,8]\n",
    "        list_elements1=[2, 3, 5, 7, 11, 13, 17, 19, 23, 29, 31, 37, 41, 43, 47, 53, 59, 61, 67, 71, 73, 79, 83, 89, 97]\n",
    "               \n",
    "        #driver code\n",
    "        print(bin_search(key,list_elements1))\n",
    "        \n",
    "        choice=input(\"Do you want to search for another element? Y/N\")\n",
    "        if choice=='n' or choice=='N':\n",
    "            flag=0"
   ]
  },
  {
   "cell_type": "markdown",
   "id": "4883b785",
   "metadata": {},
   "source": [
    "#### b) Iterative implementation"
   ]
  },
  {
   "cell_type": "code",
   "execution_count": 42,
   "id": "c1557992",
   "metadata": {},
   "outputs": [
    {
     "name": "stdout",
     "output_type": "stream",
     "text": [
      "Enter the value of element you want to search23\n",
      "Success..!!...The element has been found at location 8\n",
      "Do you want to search for another element? Y/Ny\n",
      "Enter the value of element you want to search89\n",
      "Success..!!...The element has been found at location 23\n",
      "Do you want to search for another element? Y/Ny\n",
      "Enter the value of element you want to search1\n",
      "The element is not in the list..:( )\n",
      "Do you want to search for another element? Y/Nn\n"
     ]
    }
   ],
   "source": [
    "def bin_search(key,list_elements1):\n",
    "    #assigning first as 0th index and last as the last index of the list\n",
    "    first=0\n",
    "    last=len(list_elements1)-1\n",
    "    \n",
    "    #repeat finding mid elements of the new list until the first and last element aren't the same or crosses\n",
    "    while first<=last:\n",
    "        mid=int((first+last)/2)\n",
    "        \n",
    "        #return the index of the key element which is in the middle of the list\n",
    "        if list_elements1[mid]==key:\n",
    "            return mid\n",
    "        \n",
    "        #finding the last index of the new list as the key element lies on the left half\n",
    "        #as the elemnt at middle position is greater than key  \n",
    "        elif list_elements1[mid]>key:\n",
    "            last=mid-1\n",
    "            \n",
    "        #finding the first index of the new list as the key element lies on the right half\n",
    "        #as the elemnt at middle position is less than key\n",
    "        else:\n",
    "            first=mid+1\n",
    "            \n",
    "    #returns -1 if the search key is not in th list\n",
    "    return -1\n",
    "    \n",
    "\n",
    "flag=1\n",
    "while flag:\n",
    "        #user enters the key to search\n",
    "        key=int(input(\"Enter the value of element you want to search\"))\n",
    "        \n",
    "        #Some test lists\n",
    "        list_elements=[2,4,6,8,10]\n",
    "        list_elements1=[2, 3, 5, 7, 11, 13, 17, 19, 23, 29, 31, 37, 41, 43, 47, 53, 59, 61, 67, 71, 73, 79, 83, 89, 97]\n",
    "                \n",
    "        #driver code\n",
    "        result=bin_search(key,list_elements1)\n",
    "        if result==-1:\n",
    "            print(\"The element is not in the list..:( )\")\n",
    "        else:\n",
    "            print(\"Success..!!...The element has been found at location\",result)\n",
    "        choice=input(\"Do you want to search for another element? Y/N\")\n",
    "        if choice=='n' or choice=='N':\n",
    "            flag=0"
   ]
  },
  {
   "cell_type": "markdown",
   "id": "46915317",
   "metadata": {},
   "source": [
    "#### c) Recursive implementation"
   ]
  },
  {
   "cell_type": "code",
   "execution_count": 41,
   "id": "1f65ae15",
   "metadata": {},
   "outputs": [
    {
     "name": "stdout",
     "output_type": "stream",
     "text": [
      "Enter the value of element you want to search41\n",
      "Success..!!...The element has been found at location 12\n",
      "Do you want to search for another element? Y/Ny\n",
      "Enter the value of element you want to search7\n",
      "Success..!!...The element has been found at location 3\n",
      "Do you want to search for another element? Y/Ny\n",
      "Enter the value of element you want to search83\n",
      "Success..!!...The element has been found at location 22\n",
      "Do you want to search for another element? Y/Ny\n",
      "Enter the value of element you want to search-9\n",
      "The element is not in the list..:( )\n",
      "Do you want to search for another element? Y/Nn\n"
     ]
    }
   ],
   "source": [
    "def bin_search1(list_elements1,key,first,last):\n",
    "    \n",
    "    #repeat finding mid elements of the new list until the first and last element aren't the same or crosses\n",
    "    #also indicates an unsuccessful search and retuns -1\n",
    "    if not first<=last:\n",
    "        return -1\n",
    "    else:\n",
    "        \n",
    "        #finding the middle index\n",
    "        mid=(first+last)//2\n",
    "        \n",
    "         #return the index of the key element which is in the middle of the list\n",
    "        if list_elements1[mid]==key:\n",
    "            return mid\n",
    "        \n",
    "        #repeats the search with a new list on the left since the key is less than the mid element\n",
    "        elif list_elements1[mid]>key:\n",
    "            return bin_search1(list_elements1,key,first,mid-1)\n",
    "        \n",
    "        #repeats the search with a new list on the right since the key is greater than the mid element\n",
    "        else:\n",
    "            return bin_search1(list_elements1,key,mid+1,last)\n",
    "        \n",
    "\n",
    "flag=1\n",
    "while flag:\n",
    "    #user enters the key to search\n",
    "    key=int(input(\"Enter the value of element you want to search\"))\n",
    "    \n",
    "    #Some test lists\n",
    "    list_elements=[2,4,6,8,10]\n",
    "    list_elements1=[2, 3, 5, 7, 11, 13, 17, 19, 23, 29, 31, 37, 41, 43, 47, 53, 59, 61, 67, 71, 73, 79, 83, 89, 97]\n",
    "       \n",
    "    #assigning first as 0th index and last as the last index of the list\n",
    "    first=0\n",
    "    last=len(list_elements1)-1\n",
    "    \n",
    "    #driver code\n",
    "    result=bin_search1(list_elements1,key,first,last)\n",
    "    \n",
    "    #element not in the list\n",
    "    if result==-1:\n",
    "        print(\"The element is not in the list..:( )\")\n",
    "        \n",
    "    #successful search returns index of the element in the list\n",
    "    else:\n",
    "        print(\"Success..!!...The element has been found at location\",result)\n",
    "    choice=input(\"Do you want to search for another element? Y/N\")\n",
    "    if choice=='n' or choice=='N':\n",
    "        flag=0"
   ]
  },
  {
   "cell_type": "markdown",
   "id": "0174b9f2",
   "metadata": {},
   "source": [
    "## 3. Ramanjuan's Time Series for finding value of pi"
   ]
  },
  {
   "cell_type": "markdown",
   "id": "3b39cd94",
   "metadata": {},
   "source": [
    "#### Using math function for computing factorial"
   ]
  },
  {
   "cell_type": "code",
   "execution_count": 46,
   "id": "d96cd26e",
   "metadata": {},
   "outputs": [
    {
     "name": "stdout",
     "output_type": "stream",
     "text": [
      "Number of terms in the series= 3\n",
      "\n",
      "Computed value of pi using Ramanujanas series= 3.141592653589793 \n",
      "\n",
      "Inbuilt value of math.pi= 3.141592653589793\n"
     ]
    }
   ],
   "source": [
    "#Importing library for computing mathematical operatios such as factorial, sqrt etc\n",
    "import math\n",
    "\n",
    "#Defining a function for computing the time series\n",
    "def estimate_pi():\n",
    "    \n",
    "    #Initializing variables neccessary for computation\n",
    "    total=0\n",
    "    k=0\n",
    "    flag=1\n",
    "    \n",
    "    #Calculating the constant part independent of k\n",
    "    const=(2*math.sqrt(2))/9801\n",
    "    \n",
    "    #Executing the loop until the until the last term is smaller than 1e-15\n",
    "    while flag:\n",
    "        #Computing the numerator and denominator term dependant on k\n",
    "        num=float((math.factorial(4*k))*(1103+(26390*k)))\n",
    "        deno=float((pow((math.factorial(k)),4))*(396**(4*k)))\n",
    "        sigma=float(num/deno)\n",
    "        \n",
    "        #Computing the series\n",
    "        total=total+(const*sigma)\n",
    "        \n",
    "        #When the last item is less than 10^(-15), jump out of the loop\n",
    "        if sigma <(1e-15):\n",
    "            flag=0\n",
    "            print(\"Number of terms in the series=\",k)\n",
    "            break\n",
    "            \n",
    "        #Update k value which stands for number of terms in the series    \n",
    "        k+=1\n",
    "    return (1/total)#returns the value of pi\n",
    "\n",
    "calc_pi=estimate_pi()\n",
    "#Comparing computed and original value of pi\n",
    "print(\"\\nComputed value of pi using Ramanujanas series=\",calc_pi,\"\\n\\nInbuilt value of math.pi=\",math.pi)"
   ]
  },
  {
   "cell_type": "markdown",
   "id": "148f31c7",
   "metadata": {},
   "source": [
    "#### Using user defined function for computing factorial"
   ]
  },
  {
   "cell_type": "code",
   "execution_count": 43,
   "id": "5ecd4c7e",
   "metadata": {},
   "outputs": [
    {
     "name": "stdout",
     "output_type": "stream",
     "text": [
      "Number of terms in the series= 3\n",
      "\n",
      "Computed value of pi using Ramanujanas series= 3.141592653589793 \n",
      "\n",
      "Inbuilt value of math.pi= 3.141592653589793\n"
     ]
    }
   ],
   "source": [
    "#Computing the factorial of terms used\n",
    "def fact(n):\n",
    "    if n==0 or n==1:\n",
    "        return 1\n",
    "    else:\n",
    "        return n*fact(n-1)\n",
    "    \n",
    "#Importing library for computing mathematical operatios such as factorial, sqrt etc\n",
    "import math\n",
    "\n",
    "#Defining a function for computing the time series\n",
    "def estimate_pi():\n",
    "    \n",
    "    #Initializing variables neccessary for computation\n",
    "    total=0\n",
    "    k=0\n",
    "    flag=1\n",
    "    \n",
    "    #Calculating the constant part independent of k\n",
    "    const=(2*math.sqrt(2))/9801\n",
    "    \n",
    "    #Executing the loop until the until the last term is smaller than 1e-15\n",
    "    while flag:\n",
    "        #Computing the numerator and denominator term dependant on k\n",
    "        num=float((fact(4*k))*(1103+(26390*k)))\n",
    "        deno=float((pow((fact(k)),4))*(396**(4*k)))\n",
    "        sigma=float(num/deno)\n",
    "        \n",
    "        #Computing the series\n",
    "        total=total+(const*sigma)\n",
    "        \n",
    "        #When the last item is less than 10^(-15), jump out of the loop\n",
    "        if sigma <(1e-15):\n",
    "            flag=0\n",
    "            print(\"Number of terms in the series=\",k)\n",
    "            break\n",
    "            \n",
    "        #Update k value which stands for number of terms in the series    \n",
    "        k+=1\n",
    "    return (1/total)#returns the value of pi\n",
    "\n",
    "calc_pi=estimate_pi()\n",
    "#Comparing computed and original value of pi\n",
    "print(\"\\nComputed value of pi using Ramanujanas series=\",calc_pi,\"\\n\\nInbuilt value of math.pi=\",math.pi)"
   ]
  },
  {
   "cell_type": "code",
   "execution_count": null,
   "id": "dd131e2f",
   "metadata": {},
   "outputs": [],
   "source": []
  }
 ],
 "metadata": {
  "kernelspec": {
   "display_name": "Python 3",
   "language": "python",
   "name": "python3"
  },
  "language_info": {
   "codemirror_mode": {
    "name": "ipython",
    "version": 3
   },
   "file_extension": ".py",
   "mimetype": "text/x-python",
   "name": "python",
   "nbconvert_exporter": "python",
   "pygments_lexer": "ipython3",
   "version": "3.9.5"
  }
 },
 "nbformat": 4,
 "nbformat_minor": 5
}
